{
  "cells": [
    {
      "cell_type": "code",
      "execution_count": null,
      "metadata": {
        "id": "1T1X_amdQgNH"
      },
      "outputs": [],
      "source": [
        "import numpy as np\n",
        "import matplotlib.pyplot as plt\n",
        "import random"
      ]
    },
    {
      "cell_type": "markdown",
      "metadata": {
        "id": "h6Mv3aSzQSw7"
      },
      "source": [
        "a)<b> Markovian random walk</b> - Position of particle evolves as - <br>\n",
        "<center>\n",
        "$x(t+1) = x(t) + σ(t)$ <br>\n",
        "where, $σ(t) = ± 1$\n",
        "</center>\n",
        "Mean square displacement, <br>\n",
        "for N steps, $MSD(i) = \\frac{\\sum((x(t+idt) - x(t))^2)}{N}$ <br>\n"
      ]
    },
    {
      "cell_type": "code",
      "execution_count": null,
      "metadata": {
        "id": "ZqCgwekNSDmH"
      },
      "outputs": [],
      "source": [
        "def no_memory(n_t):\n",
        "  n_loop = 100\n",
        "  x = np.zeros((n_t, 1))\n",
        "  MSD_1 = np.zeros((n_loop, n_t))\n",
        "  t = [i for i in range(n_t)]\n",
        "\n",
        "  for i in range(n_loop):\n",
        "    for j in range(1,n_t):\n",
        "      dx = np.random.choice([-1, 1])\n",
        "      x[j] = x[j-1] + dx\n",
        "\n",
        "      #MSD = np.square(x) \n",
        "    \n",
        "    for k in range(n_t):\n",
        "      sum = 0 \n",
        "      for l in range(k, n_t):\n",
        "        sum = sum + np.square(x[l] - x[l-k])\n",
        "      MSD_1[i, k]  = sum/(n_t - k)\n",
        "  \n",
        "\n",
        "  return (t, np.sum(MSD_1, axis = 0)/n_loop )"
      ]
    },
    {
      "cell_type": "markdown",
      "metadata": {
        "id": "fex6qMqmMczt"
      },
      "source": [
        "Part(b)\n",
        "Random walk with one step memory"
      ]
    },
    {
      "cell_type": "code",
      "execution_count": null,
      "metadata": {
        "id": "RdOmsG-dYHAo"
      },
      "outputs": [],
      "source": [
        "def one_step_memory(n_t, w):\n",
        "  n_loop = 100\n",
        "  x = np.zeros((n_t, 1))\n",
        "  MSD_1 = np.zeros((n_loop, n_t))\n",
        "  dx = np.zeros((n_t, 1))\n",
        "  t = [i for i in range(n_t)]\n",
        "\n",
        "\n",
        "  for i in range(n_loop):\n",
        "    dx[1] = int(np.random.choice([-1, 1]))\n",
        "    x[1] = dx[1]\n",
        "    for j in range(2, n_t):\n",
        "      c = int(dx[j-1])\n",
        "      dx[j] = np.random.choice([c, -c], p=[w, 1-w])\n",
        "      x[j] = x[j-1]+dx[j]\n",
        "\n",
        "    for k in range(n_t):\n",
        "      sum = 0 \n",
        "      for l in range(k, n_t):\n",
        "        sum = sum + np.square(x[l] - x[l-k])\n",
        "      MSD_1[i, k]  = sum/(n_t - k)\n",
        "  \n",
        "\n",
        "  return (t, np.sum(MSD_1, axis = 0)/n_loop)"
      ]
    },
    {
      "cell_type": "markdown",
      "metadata": {
        "id": "KFXpqGKaayOD"
      },
      "source": [
        "Part(c)\n",
        "Random walk with five step memory"
      ]
    },
    {
      "cell_type": "code",
      "execution_count": null,
      "metadata": {
        "id": "mNjL4IAJaM5F"
      },
      "outputs": [],
      "source": [
        "def five_step_memory(n_t, w):\n",
        "  n_loop = 100\n",
        "  x = np.zeros((n_t, 1))\n",
        "  MSD_1 = np.zeros((n_loop, n_t))\n",
        "  dx = np.zeros((n_t, 1))\n",
        "  t = [i for i in range(n_t)]\n",
        "\n",
        "\n",
        "\n",
        "  for i in range(n_loop):\n",
        "    dx[1] = int(np.random.choice([-1, 1]))\n",
        "    x[1] = dx[1]\n",
        "    for j in range(2, n_t):\n",
        "      if j < 5:\n",
        "        choice = dx[0:j]\n",
        "      else:\n",
        "        choice = dx[j-5:j]\n",
        "      sigma_t = int(random.choice(choice))\n",
        "      choice_2 = [sigma_t, -sigma_t]\n",
        "      dx[j] = np.random.choice(choice_2, p=[w, 1-w])\n",
        "      x[j] = x[j-1]+dx[j]\n",
        "\n",
        "    for k in range(n_t):\n",
        "      sum = 0 \n",
        "      for l in range(k, n_t):\n",
        "        sum = sum + np.square(x[l] - x[l-k])\n",
        "      MSD_1[i, k]  = sum/(n_t - k)\n",
        "  \n",
        "\n",
        "  return (t, np.sum(MSD_1, axis = 0)/n_loop)"
      ]
    },
    {
      "cell_type": "markdown",
      "source": [
        "Part d) Random walk with full memory"
      ],
      "metadata": {
        "id": "6miI81dLEsxq"
      }
    },
    {
      "cell_type": "code",
      "execution_count": null,
      "metadata": {
        "id": "R4RIYhjWsAR5"
      },
      "outputs": [],
      "source": [
        "def full_memory(n_t, w):\n",
        "  n_loop = 100\n",
        "  x = np.zeros((n_t, 1))\n",
        "  MSD_1 = np.zeros((n_loop, n_t))\n",
        "  dx = np.zeros((n_t, 1))\n",
        "  t = [i for i in range(n_t)]\n",
        "\n",
        "\n",
        "  for i in range(n_loop):\n",
        "    dx[1] = int(np.random.choice([-1, 1]))\n",
        "    x[1] = dx[1]\n",
        "    for j in range(2, n_t):\n",
        "      choice = dx[0:j]\n",
        "      sigma_t = int(random.choice(choice))\n",
        "      choice_2 = [sigma_t, -sigma_t]\n",
        "      dx[j] = np.random.choice(choice_2, p=[w, 1-w])\n",
        "      x[j] = x[j-1]+dx[j]\n",
        "\n",
        "    for k in range(n_t):\n",
        "      sum = 0 \n",
        "      for l in range(k, n_t):\n",
        "        sum = sum + np.square(x[l] - x[l-k])\n",
        "      MSD_1[i, k]  = sum/(n_t - k)\n",
        "  \n",
        "  return (t, np.sum(MSD_1, axis = 0)/n_loop)"
      ]
    },
    {
      "cell_type": "code",
      "source": [
        "def plot(t, MSD):\n",
        "  plt.figure(figsize = (16, 8))\n",
        "  plt.subplot(1,2, 1)\n",
        "  plt.grid()\n",
        "  plt.plot(t,MSD)\n",
        "  plt.legend([\"MSD\"])\n",
        "  plt.xlabel(\"Time step\")\n",
        "  plt.ylabel(\"MSD\")\n",
        "  plt.subplot(1,2,2)\n",
        "  plt.plot(np.log(t),np.log(MSD) )\n",
        "  plt.grid()\n",
        "  slope, intercept = np.polyfit(np.log(t[1:len(t)]),np.log(MSD[1:len(t)]), 1)\n",
        "  plt.legend([\"log t vs log MSD\"])\n",
        "  plt.xlabel(\"ln(Time step)\")\n",
        "  plt.ylabel(\"ln(MSD)\")\n",
        "  plt.title( \"slope - \"+ str(slope) )\n",
        "  print(slope, intercept)"
      ],
      "metadata": {
        "id": "Usv-fQbQZOW_"
      },
      "execution_count": null,
      "outputs": []
    },
    {
      "cell_type": "markdown",
      "source": [
        "Part a) output"
      ],
      "metadata": {
        "id": "38if3a0HZah-"
      }
    },
    {
      "cell_type": "code",
      "source": [
        "t, MSD = no_memory(500) #Parameters - Number of timestep \n",
        "plot(t, MSD)"
      ],
      "metadata": {
        "id": "ab44pnXwZYwo"
      },
      "execution_count": null,
      "outputs": []
    },
    {
      "cell_type": "markdown",
      "source": [
        "Part b - w = 0.6 output "
      ],
      "metadata": {
        "id": "zOaI1JK8aurF"
      }
    },
    {
      "cell_type": "code",
      "source": [
        "t, MSD = one_step_memory(500, 0.6) #Parameters - Number of timestep and w\n",
        "plot(t, MSD)"
      ],
      "metadata": {
        "id": "Sw3A2KkmZXEn"
      },
      "execution_count": null,
      "outputs": []
    },
    {
      "cell_type": "markdown",
      "source": [
        "Part b - w = 0.9 output "
      ],
      "metadata": {
        "id": "lTzk4w9ZbOC5"
      }
    },
    {
      "cell_type": "code",
      "source": [
        "t, MSD = one_step_memory(500, 0.9) #Parameters - Number of timestep and w\n",
        "plot(t, MSD)"
      ],
      "metadata": {
        "id": "V3Yp0eC6ad2C"
      },
      "execution_count": null,
      "outputs": []
    },
    {
      "cell_type": "markdown",
      "source": [
        "Part c - w = 0.6 output "
      ],
      "metadata": {
        "id": "i-MKFwlwbOub"
      }
    },
    {
      "cell_type": "code",
      "source": [
        "t, MSD = five_step_memory(500, 0.6) #Parameters - Number of timestep and w\n",
        "plot(t, MSD)"
      ],
      "metadata": {
        "id": "07zAW7e2afwo"
      },
      "execution_count": null,
      "outputs": []
    },
    {
      "cell_type": "markdown",
      "source": [
        "Part c - w = 0.9 output "
      ],
      "metadata": {
        "id": "6cbHDdAQbPJg"
      }
    },
    {
      "cell_type": "code",
      "source": [
        "t, MSD = five_step_memory(500, 0.9) #Parameters - Number of timestep and w\n",
        "plot(t, MSD)"
      ],
      "metadata": {
        "id": "t-xD8S2nagQY"
      },
      "execution_count": null,
      "outputs": []
    },
    {
      "cell_type": "markdown",
      "source": [
        "Part d - w = 0.6 output "
      ],
      "metadata": {
        "id": "A6KLRGZAbPuf"
      }
    },
    {
      "cell_type": "code",
      "source": [
        "t, MSD = full_memory(500, 0.6) #Parameters - Number of timestep and w\n",
        "plot(t, MSD)"
      ],
      "metadata": {
        "id": "n3QiLbedakz4"
      },
      "execution_count": null,
      "outputs": []
    },
    {
      "cell_type": "markdown",
      "source": [
        "Part d - w = 0.9 output "
      ],
      "metadata": {
        "id": "LfkoSANaboIT"
      }
    },
    {
      "cell_type": "code",
      "source": [
        "t, MSD = full_memory(500, 0.9)\n",
        "plot(t, MSD)"
      ],
      "metadata": {
        "id": "KtlM5BWYalAp"
      },
      "execution_count": null,
      "outputs": []
    }
  ],
  "metadata": {
    "colab": {
      "provenance": [],
      "collapsed_sections": []
    },
    "kernelspec": {
      "display_name": "Python 3",
      "name": "python3"
    },
    "language_info": {
      "name": "python"
    }
  },
  "nbformat": 4,
  "nbformat_minor": 0
}